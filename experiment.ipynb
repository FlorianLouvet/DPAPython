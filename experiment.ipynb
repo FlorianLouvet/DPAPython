{
 "cells": [
  {
   "cell_type": "code",
   "execution_count": 4,
   "metadata": {
    "collapsed": true
   },
   "outputs": [],
   "source": [
    "import numpy as np\n",
    "\n",
    "def deal(a,b):\n",
    "    print(a)\n",
    "    print(b)\n",
    "    num = 0\n",
    "    mean_a = np.mean(a)\n",
    "    mean_b = np.mean(b)\n",
    "    for i in range(3):\n",
    "        num += (a[i]-mean_a) * (b[i] - mean_b)\n",
    "    den_l = 0\n",
    "    den_r = 0\n",
    "    for i in range(3):\n",
    "        den_l += (a[i] - mean_a)**2\n",
    "        den_r += (b[i] - mean_b)**2\n",
    "    den = np.sqrt(den_l * den_r)\n",
    "    print(num/den)\n",
    "    return num/den"
   ]
  },
  {
   "cell_type": "code",
   "execution_count": 5,
   "metadata": {
    "collapsed": false,
    "scrolled": true
   },
   "outputs": [
    {
     "name": "stdout",
     "output_type": "stream",
     "text": [
      "[0 3 6]\n",
      "[0 3 6]\n",
      "1.0\n",
      "[0 3 6]\n",
      "[1 4 7]\n",
      "1.0\n",
      "[0 3 6]\n",
      "[2 5 8]\n",
      "1.0\n",
      "[1 4 7]\n",
      "[0 3 6]\n",
      "1.0\n",
      "[1 4 7]\n",
      "[1 4 7]\n",
      "1.0\n",
      "[1 4 7]\n",
      "[2 5 8]\n",
      "1.0\n",
      "[2 5 8]\n",
      "[0 3 6]\n",
      "1.0\n",
      "[2 5 8]\n",
      "[1 4 7]\n",
      "1.0\n",
      "[2 5 8]\n",
      "[2 5 8]\n",
      "1.0\n",
      "[[ 1.  1.  1.]\n",
      " [ 1.  1.  1.]\n",
      " [ 1.  1.  1.]]\n"
     ]
    }
   ],
   "source": [
    "\n",
    "\n",
    "a = np.reshape(np.arange(0,9), (3,3))\n",
    "b = a = np.reshape(np.arange(0,9), (3,3))\n",
    "res = np.zeros((3,3))\n",
    "it = np.nditer(res, flags=['multi_index'], op_flags=['writeonly'])\n",
    "while not it.finished:\n",
    "    it[0] = deal(a[:,it.multi_index[0]], b[:,it.multi_index[1]])\n",
    "    it.iternext()\n",
    "print(res)"
   ]
  },
  {
   "cell_type": "code",
   "execution_count": 7,
   "metadata": {
    "collapsed": false
   },
   "outputs": [
    {
     "ename": "ImportError",
     "evalue": "No module named 'binary_trace_processing'",
     "output_type": "error",
     "traceback": [
      "\u001b[1;31m---------------------------------------------------------------------------\u001b[0m",
      "\u001b[1;31mImportError\u001b[0m                               Traceback (most recent call last)",
      "\u001b[1;32m<ipython-input-7-16b8226332b4>\u001b[0m in \u001b[0;36m<module>\u001b[1;34m()\u001b[0m\n\u001b[1;32m----> 1\u001b[1;33m \u001b[1;32mfrom\u001b[0m \u001b[0mSCREAM\u001b[0m\u001b[1;33m.\u001b[0m\u001b[0mcpa_scream\u001b[0m \u001b[1;32mimport\u001b[0m \u001b[0mcompute_correlation\u001b[0m\u001b[1;33m\u001b[0m\u001b[0m\n\u001b[0m\u001b[0;32m      2\u001b[0m \u001b[1;33m\u001b[0m\u001b[0m\n\u001b[0;32m      3\u001b[0m \u001b[0mval\u001b[0m \u001b[1;33m=\u001b[0m \u001b[0mcompute_correlation\u001b[0m\u001b[1;33m(\u001b[0m\u001b[0ma\u001b[0m\u001b[1;33m,\u001b[0m\u001b[0mb\u001b[0m\u001b[1;33m)\u001b[0m\u001b[1;33m\u001b[0m\u001b[0m\n",
      "\u001b[1;32m/home/florianlouvet/MT/DPA/SCREAM/cpa_scream.py\u001b[0m in \u001b[0;36m<module>\u001b[1;34m()\u001b[0m\n\u001b[0;32m      2\u001b[0m \u001b[1;32mimport\u001b[0m \u001b[0margparse\u001b[0m\u001b[1;33m\u001b[0m\u001b[0m\n\u001b[0;32m      3\u001b[0m \u001b[1;32mimport\u001b[0m \u001b[0msys\u001b[0m\u001b[1;33m\u001b[0m\u001b[0m\n\u001b[1;32m----> 4\u001b[1;33m \u001b[1;32mfrom\u001b[0m \u001b[0mbinary_trace_processing\u001b[0m \u001b[1;32mimport\u001b[0m \u001b[0mread_trace_from_bin\u001b[0m\u001b[1;33m\u001b[0m\u001b[0m\n\u001b[0m\u001b[0;32m      5\u001b[0m \u001b[1;32mfrom\u001b[0m \u001b[0mglob\u001b[0m \u001b[1;32mimport\u001b[0m \u001b[0mglob\u001b[0m\u001b[1;33m\u001b[0m\u001b[0m\n\u001b[0;32m      6\u001b[0m \u001b[1;33m\u001b[0m\u001b[0m\n",
      "\u001b[1;31mImportError\u001b[0m: No module named 'binary_trace_processing'"
     ]
    }
   ],
   "source": [
    "from SCREAM.cpa_scream import compute_correlation\n",
    "\n",
    "val = compute_correlation(a,b)"
   ]
  },
  {
   "cell_type": "code",
   "execution_count": 7,
   "metadata": {
    "collapsed": true
   },
   "outputs": [],
   "source": [
    "tuples = ('00','20'),('10','A2'),('20','6C'),('30','37'),('40','75'),('50','0F'),('60','CD'),('70','D6'),('80','84'),('90','BE'),('A0','48'),('B0','A9'),('C0','C3'),('D0','D1'),('E0','EB'),('F0','9A'),('01','8D'),('11','96'),('21','01'),('31','13'),('41','2C'),('51','77'),('61','44'),('71','7E'),('81','B9'),('91','58'),('A1','B5'),('B1','CF'),('C1','8A'),('D1','FB'),('E1','72'),('F1','F0'),('02','B2'),('12','30'),('22','0E'),('32','05'),('42','47'),('52','FD'),('62','3F'),('72','74'),('82','26'),('92','DC'),('A2','CA'),('B2','BB'),('C2','C1'),('D2','D3'),('E2','F9'),('F2','18'),('03','DA'),('13','AB'),('23','3D'),('33','87'),('43','E9'),('53','08'),('63','62'),('73','E0'),('83','34'),('93','7F'),('A3','11'),('B3','03'),('C3','45'),('D3','4E'),('E3','1C'),('F3','E6'),('04','33'),('14','C8'),('24','B6'),('34','04'),('44','C2'),('54','79'),('64','5B'),('74','41'),('84','1D'),('94','EC'),('A4','FA'),('B4','A0'),('C4','DE'),('D4','BF'),('E4','E5'),('F4','C7'),('05','35'),('15','17'),('25','39'),('35','82'),('45','60'),('55','3A'),('65','88'),('75','73'),('85','81'),('95','9B'),('A5','0D'),('B5','FC'),('C5','66'),('D5','D4'),('E5','CE'),('F5','AF'),('06','A6'),('16','14'),('26','4A'),('36','31'),('46','43'),('56','49'),('66','6B'),('76','50'),('86','32'),('96','78'),('A6','8E'),('B6','EF'),('C6','F5'),('D6','D7'),('E6','4D'),('F6','BC'),('07','FF'),('17','9E'),('27','83'),('37','89'),('47','AC'),('57','5D'),('67','C4'),('77','76'),('87','2B'),('97','10'),('A7','07'),('B7','25'),('C7','0A'),('D7','71'),('E7','F2'),('F7','B8'),('08','7A'),('18','E8'),('28','6F'),('38','24'),('48','57'),('58','ED'),('68','5E'),('78','55'),('88','36'),('98','CC'),('A8','B1'),('B8','80'),('C8','C9'),('D8','CB'),('E8','42'),('F8','E3'),('09','52'),('19','F3'),('29','AA'),('39','38'),('49','A1'),('59','90'),('69','2D'),('79','97'),('89','64'),('99','2F'),('A9','0C'),('B9','F6'),('C9','15'),('D9','1E'),('E9','19'),('F9','1B'),('0A','6A'),('1A','F8'),('2A','86'),('3A','9D'),('4A','1F'),('5A','65'),('6A','67'),('7A','3C'),('8A','AE'),('9A','94'),('AA','12'),('BA','B3'),('CA','D9'),('DA','DB'),('EA','E1'),('FA','D0'),('0B','C6'),('1B','DD'),('2B','6E'),('3B','54'),('4B','27'),('5B','7C'),('6B','0B'),('7B','09'),('8B','C0'),('9B','F1'),('AB','28'),('BB','BA'),('CB','A3'),('DB','02'),('EB','DF'),('FB','A5'),('0C','A4'),('1C','85'),('2C','68'),('3C','22'),('4C','E7'),('5C','56'),('6C','9F'),('7C','7D'),('8C','00'),('9C','3B'),('AC','4C'),('BC','3E'),('CC','61'),('DC','1A'),('EC','59'),('FC','53'),('0D','A8'),('1D','E2'),('2D','40'),('3D','7B'),('4D','AD'),('5D','4F'),('6D','21'),('7D','5A'),('8D','EE'),('9D','9C'),('AD','46'),('BD','F7'),('CD','99'),('DD','93'),('ED','95'),('FD','B4'),('0E','51'),('1E','4B'),('2E','98'),('3E','63'),('4E','5C'),('5E','2E'),('6E','29'),('7E','92'),('8E','8F'),('9E','6D'),('AE','F4'),('BE','D5'),('CE','B0'),('DE','EA'),('EE','B7'),('FE','06'),('0F','23'),('1F','D8'),('2F','5F'),('3F','BD'),('4F','D2'),('5F','69'),('6F','2A'),('7F','70'),('8F','A7'),('9F','16'),('AF','8B'),('BF','91'),('CF','E4'),('DF','C5'),('EF','8C'),('FF','FE')"
   ]
  },
  {
   "cell_type": "code",
   "execution_count": 10,
   "metadata": {
    "collapsed": false
   },
   "outputs": [
    {
     "name": "stdout",
     "output_type": "stream",
     "text": [
      "{0: 32, 1: 141, 2: 178, 3: 218, 4: 51, 5: 53, 6: 166, 7: 255, 8: 122, 9: 82, 10: 106, 11: 198, 12: 164, 13: 168, 14: 81, 15: 35, 16: 162, 17: 150, 18: 48, 19: 171, 20: 200, 21: 23, 22: 20, 23: 158, 24: 232, 25: 243, 26: 248, 27: 221, 28: 133, 29: 226, 30: 75, 31: 216, 32: 108, 33: 1, 34: 14, 35: 61, 36: 182, 37: 57, 38: 74, 39: 131, 40: 111, 41: 170, 42: 134, 43: 110, 44: 104, 45: 64, 46: 152, 47: 95, 48: 55, 49: 19, 50: 5, 51: 135, 52: 4, 53: 130, 54: 49, 55: 137, 56: 36, 57: 56, 58: 157, 59: 84, 60: 34, 61: 123, 62: 99, 63: 189, 64: 117, 65: 44, 66: 71, 67: 233, 68: 194, 69: 96, 70: 67, 71: 172, 72: 87, 73: 161, 74: 31, 75: 39, 76: 231, 77: 173, 78: 92, 79: 210, 80: 15, 81: 119, 82: 253, 83: 8, 84: 121, 85: 58, 86: 73, 87: 93, 88: 237, 89: 144, 90: 101, 91: 124, 92: 86, 93: 79, 94: 46, 95: 105, 96: 205, 97: 68, 98: 63, 99: 98, 100: 91, 101: 136, 102: 107, 103: 196, 104: 94, 105: 45, 106: 103, 107: 11, 108: 159, 109: 33, 110: 41, 111: 42, 112: 214, 113: 126, 114: 116, 115: 224, 116: 65, 117: 115, 118: 80, 119: 118, 120: 85, 121: 151, 122: 60, 123: 9, 124: 125, 125: 90, 126: 146, 127: 112, 128: 132, 129: 185, 130: 38, 131: 52, 132: 29, 133: 129, 134: 50, 135: 43, 136: 54, 137: 100, 138: 174, 139: 192, 140: 0, 141: 238, 142: 143, 143: 167, 144: 190, 145: 88, 146: 220, 147: 127, 148: 236, 149: 155, 150: 120, 151: 16, 152: 204, 153: 47, 154: 148, 155: 241, 156: 59, 157: 156, 158: 109, 159: 22, 160: 72, 161: 181, 162: 202, 163: 17, 164: 250, 165: 13, 166: 142, 167: 7, 168: 177, 169: 12, 170: 18, 171: 40, 172: 76, 173: 70, 174: 244, 175: 139, 176: 169, 177: 207, 178: 187, 179: 3, 180: 160, 181: 252, 182: 239, 183: 37, 184: 128, 185: 246, 186: 179, 187: 186, 188: 62, 189: 247, 190: 213, 191: 145, 192: 195, 193: 138, 194: 193, 195: 69, 196: 222, 197: 102, 198: 245, 199: 10, 200: 201, 201: 21, 202: 217, 203: 163, 204: 97, 205: 153, 206: 176, 207: 228, 208: 209, 209: 251, 210: 211, 211: 78, 212: 191, 213: 212, 214: 215, 215: 113, 216: 203, 217: 30, 218: 219, 219: 2, 220: 26, 221: 147, 222: 234, 223: 197, 224: 235, 225: 114, 226: 249, 227: 28, 228: 229, 229: 206, 230: 77, 231: 242, 232: 66, 233: 25, 234: 225, 235: 223, 236: 89, 237: 149, 238: 183, 239: 140, 240: 154, 241: 240, 242: 24, 243: 230, 244: 199, 245: 175, 246: 188, 247: 184, 248: 227, 249: 27, 250: 208, 251: 165, 252: 83, 253: 180, 254: 6, 255: 254}\n"
     ]
    }
   ],
   "source": [
    "dic = {}\n",
    "for i in tuples:\n",
    "    key = int(i[0], 16)\n",
    "    dic[key] = int(i[1], 16)\n",
    "print(dic)"
   ]
  },
  {
   "cell_type": "code",
   "execution_count": null,
   "metadata": {
    "collapsed": true
   },
   "outputs": [],
   "source": []
  },
  {
   "cell_type": "code",
   "execution_count": null,
   "metadata": {
    "collapsed": true
   },
   "outputs": [],
   "source": []
  },
  {
   "cell_type": "code",
   "execution_count": 20,
   "metadata": {
    "collapsed": false
   },
   "outputs": [
    {
     "name": "stdout",
     "output_type": "stream",
     "text": [
      "01010001\n",
      "01010010\n",
      "01010011\n",
      "01010100\n",
      "01010101\n",
      "01010110\n",
      "01010111\n",
      "01011000\n",
      "01011001\n",
      "01011010\n",
      "01011011\n",
      "01011100\n",
      "01011101\n",
      "01011110\n",
      "01011111\n",
      "01100000\n"
     ]
    }
   ],
   "source": [
    "x = ['51','52','53','54','55','56','57','58','59','5A','5B','5C','5D','5E','5F','60']\n",
    "for i in x:\n",
    "    print(format(int(i,16), '#010b')[2:])"
   ]
  },
  {
   "cell_type": "code",
   "execution_count": null,
   "metadata": {
    "collapsed": false
   },
   "outputs": [],
   "source": []
  },
  {
   "cell_type": "code",
   "execution_count": null,
   "metadata": {
    "collapsed": false
   },
   "outputs": [],
   "source": []
  },
  {
   "cell_type": "code",
   "execution_count": 3,
   "metadata": {
    "collapsed": false
   },
   "outputs": [
    {
     "data": {
      "text/plain": [
       "array([  0, 255, 128, 127, 120, 102,  85,   0,   0, 255,   0, 255, 240,\n",
       "       204, 170, 255])"
      ]
     },
     "execution_count": 3,
     "metadata": {},
     "output_type": "execute_result"
    }
   ],
   "source": [
    "from cpa_scream import read_byte_key\n",
    "\n",
    "read_byte_key('./collect/key.csv')"
   ]
  },
  {
   "cell_type": "code",
   "execution_count": 5,
   "metadata": {
    "collapsed": false
   },
   "outputs": [
    {
     "name": "stdout",
     "output_type": "stream",
     "text": [
      "[0]\n",
      "[0]\n",
      "[0]\n",
      "[0]\n",
      "[0]\n",
      "[0]\n",
      "[0]\n",
      "[0]\n",
      "[0]\n",
      "[0]\n",
      "[0]\n",
      "[0]\n",
      "[0]\n",
      "[0]\n",
      "[0]\n",
      "[0]\n"
     ]
    },
    {
     "data": {
      "text/plain": [
       "89"
      ]
     },
     "execution_count": 5,
     "metadata": {},
     "output_type": "execute_result"
    }
   ],
   "source": [
    "from cpa_scream import compute_cutted_tweaks, read_values, get_keys, compute_intermediate_values\n",
    "BYTE = 8\n",
    "for i in range(1,17):\n",
    "    TWEAKS = compute_cutted_tweaks(1, i)\n",
    "    print(TWEAKS)\n",
    "TWEAKS = compute_cutted_tweaks(1, 1)\n",
    "VALUES = read_values('./test_values.csv', 1)\n",
    "KEYS = get_keys(BYTE)\n",
    "compute_intermediate_values(VALUES, KEYS, TWEAKS)[0][0]"
   ]
  },
  {
   "cell_type": "code",
   "execution_count": 9,
   "metadata": {
    "collapsed": false
   },
   "outputs": [
    {
     "data": {
      "text/plain": [
       "'0b000000000000000000000000000000'"
      ]
     },
     "execution_count": 9,
     "metadata": {},
     "output_type": "execute_result"
    }
   ],
   "source": []
  },
  {
   "cell_type": "code",
   "execution_count": 19,
   "metadata": {
    "collapsed": false
   },
   "outputs": [],
   "source": [
    "import numpy as np\n",
    "import numexpr as ne\n",
    "\n",
    "simulated_consumption = np.reshape(np.arange(10000*10000),(10000,10000))"
   ]
  },
  {
   "cell_type": "code",
   "execution_count": 24,
   "metadata": {
    "collapsed": false
   },
   "outputs": [
    {
     "name": "stdout",
     "output_type": "stream",
     "text": [
      "10 loops, best of 3: 172 ms per loop\n"
     ]
    }
   ],
   "source": [
    "timeit simulated_consumption**2"
   ]
  },
  {
   "cell_type": "code",
   "execution_count": 25,
   "metadata": {
    "collapsed": false
   },
   "outputs": [
    {
     "name": "stdout",
     "output_type": "stream",
     "text": [
      "10 loops, best of 3: 172 ms per loop\n"
     ]
    }
   ],
   "source": [
    "timeit ne.evaluate('simulated_consumption**2')"
   ]
  },
  {
   "cell_type": "code",
   "execution_count": null,
   "metadata": {
    "collapsed": true
   },
   "outputs": [],
   "source": []
  },
  {
   "cell_type": "code",
   "execution_count": 5,
   "metadata": {
    "collapsed": false
   },
   "outputs": [
    {
     "name": "stdout",
     "output_type": "stream",
     "text": [
      "[2]\n"
     ]
    }
   ],
   "source": [
    "from threading import Thread\n",
    "def lel(res):\n",
    "    res += [2]\n",
    "a=[]\n",
    "t = Thread(target=lel, args=(a, ))\n",
    "t.start()\n",
    "t.join()\n",
    "print(a)"
   ]
  },
  {
   "cell_type": "code",
   "execution_count": null,
   "metadata": {
    "collapsed": true
   },
   "outputs": [],
   "source": []
  }
 ],
 "metadata": {
  "kernelspec": {
   "display_name": "Python 3",
   "language": "python",
   "name": "python3"
  },
  "language_info": {
   "codemirror_mode": {
    "name": "ipython",
    "version": 3
   },
   "file_extension": ".py",
   "mimetype": "text/x-python",
   "name": "python",
   "nbconvert_exporter": "python",
   "pygments_lexer": "ipython3",
   "version": "3.5.1+"
  }
 },
 "nbformat": 4,
 "nbformat_minor": 0
}
